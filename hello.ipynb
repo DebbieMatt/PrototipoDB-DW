{
 "cells": [
  {
   "cell_type": "code",
   "execution_count": 2,
   "metadata": {},
   "outputs": [
    {
     "name": "stdout",
     "output_type": "stream",
     "text": [
      "   a  b  c\n",
      "0  1  2  3\n",
      "1  4  5  6\n",
      "2  7  8  9\n"
     ]
    }
   ],
   "source": [
    "import pandas as pd\n",
    "import numpy as np\n",
    "import csv\n",
    "df = pd.DataFrame(np.array([[1, 2, 3], [4, 5, 6], [7, 8, 9]]), \n",
    "                columns=['a', 'b', 'c'])\n",
    "print(df)"
   ]
  },
  {
   "cell_type": "code",
   "execution_count": 3,
   "metadata": {},
   "outputs": [],
   "source": [
    "import pandas.io.sql as sqlio"
   ]
  },
  {
   "cell_type": "code",
   "execution_count": 4,
   "metadata": {},
   "outputs": [],
   "source": [
    "from sqlalchemy import create_engine, MetaData, Table, inspect"
   ]
  },
  {
   "cell_type": "code",
   "execution_count": 5,
   "metadata": {},
   "outputs": [
    {
     "name": "stdout",
     "output_type": "stream",
     "text": [
      "   cod_fin nome_fin   func_fin  salario_fin     mes_fin  descontos_fin  \\\n",
      "0        1    James   vendedor       1540.0  2022-11-10          123.2   \n",
      "1        2     Liza  vendedora       2760.0  2021-02-01          220.8   \n",
      "2        3     Emma  vendedora       1230.0  2022-11-07           98.4   \n",
      "\n",
      "     descricao_descontos  \n",
      "0  Desconto de 8% (FGTS)  \n",
      "1  Desconto de 8% (FGTS)  \n",
      "2  Desconto de 8% (FGTS)  \n"
     ]
    },
    {
     "name": "stderr",
     "output_type": "stream",
     "text": [
      "/tmp/ipykernel_9790/56984747.py:11: UserWarning: pandas only supports SQLAlchemy connectable (engine/connection) or database string URI or sqlite3 DBAPI2 connection. Other DBAPI2 objects are not tested. Please consider using SQLAlchemy.\n",
      "  df = pd.read_sql(query,conn2)\n"
     ]
    }
   ],
   "source": [
    "#conectando SGBD PostgreSQL \n",
    "import psycopg2 as ps\n",
    "conn2 = ps.connect(dbname = \"pydw\",\n",
    "                   user = \"postgres\",\n",
    "                   password = \"125802\",\n",
    "                   host = \"10.0.2.2\",\n",
    "                   port = \"5432\")\n",
    "# Selecionando e executando comando no dataframework\n",
    "cursor = conn2.cursor()\n",
    "query = \"SELECT * FROM financeiro\" \n",
    "df = pd.read_sql(query,conn2)\n",
    "print(df.head(20))"
   ]
  },
  {
   "cell_type": "code",
   "execution_count": 94,
   "metadata": {},
   "outputs": [],
   "source": [
    "\n",
    "cursor = conn2.cursor()\n",
    "#Inserindo dados na tabela\n",
    "sql_insert = \"INSERT INTO financeiro (cod_fin, nome_fin, func_fin, salario_fin, mes_fin, descontos_fin, descricao_descontos) VALUES (03, 'Emma', 'vendedora','1230', '2022-11-07', '98.40', 'Desconto de 8% (FGTS)')\"\n",
    "cursor.execute(\"ROLLBACK\")\n",
    "cursor.execute(sql_insert)\n",
    "conn2.commit()"
   ]
  },
  {
   "cell_type": "code",
   "execution_count": 90,
   "metadata": {},
   "outputs": [],
   "source": [
    "#Executando a atualização de um valor\n",
    "sql_update = \"UPDATE financeiro SET descricao_descontos = 'Desconto de 8% (FGTS)' WHERE cod_fin = 02 \"\n",
    "cursor.execute(\"ROLLBACK\")\n",
    "cursor.execute(sql_update)\n",
    "conn2.commit()"
   ]
  },
  {
   "cell_type": "code",
   "execution_count": 6,
   "metadata": {},
   "outputs": [],
   "source": [
    "import psycopg2\n",
    "engine = create_engine('postgresql:///postgres:125802@localhost:5432/pydw',pool_size=10, max_overflow=20, pool_pre_ping=True)"
   ]
  },
  {
   "cell_type": "code",
   "execution_count": null,
   "metadata": {},
   "outputs": [],
   "source": [
    "#Deeletnado um determinado valor, linha ou tabela\n",
    "sql_delete = \"DELETE FROM financeiro where cod_fin = 00\"\n",
    "\n",
    "cursor.execute(\"ROLLBACK\")\n",
    "cursor.execute(sql_delete)\n",
    "conn2.commit()"
   ]
  },
  {
   "cell_type": "code",
   "execution_count": 7,
   "metadata": {},
   "outputs": [
    {
     "name": "stdout",
     "output_type": "stream",
     "text": [
      "   cod_forn nome_forn         cidade_forn uf_forn  \\\n",
      "0        10    Robson  Lucas de Rio Verde      MT   \n",
      "1        11     Paulo               Sinop      MT   \n",
      "2        12     Julie        Rondonopolis      MT   \n",
      "\n",
      "                descricao_produto  \n",
      "0      Artigo de festa(decoracao)  \n",
      "1    Artigo de festa (guluseimas)  \n",
      "2  Artigo de festa(lembrancinhas)  \n"
     ]
    },
    {
     "name": "stderr",
     "output_type": "stream",
     "text": [
      "/tmp/ipykernel_9790/1191952225.py:11: UserWarning: pandas only supports SQLAlchemy connectable (engine/connection) or database string URI or sqlite3 DBAPI2 connection. Other DBAPI2 objects are not tested. Please consider using SQLAlchemy.\n",
      "  df = pd.read_sql(query,conn2)\n"
     ]
    }
   ],
   "source": [
    "#conectando SGBD PostgreSQL \n",
    "import psycopg2 as ps\n",
    "conn2 = ps.connect(dbname = \"pydw\",\n",
    "                   user = \"postgres\",\n",
    "                   password = \"125802\",\n",
    "                   host = \"10.0.2.2\",\n",
    "                   port = \"5432\")\n",
    "# Selecionando e executando comando no dataframework\n",
    "cursor = conn2.cursor()\n",
    "query = \"SELECT * FROM fornecedor\" \n",
    "df = pd.read_sql(query,conn2)\n",
    "print(df.head(20))"
   ]
  },
  {
   "cell_type": "code",
   "execution_count": 99,
   "metadata": {},
   "outputs": [],
   "source": [
    "cursor = conn2.cursor()\n",
    "#Inserindo dados na tabela\n",
    "sql_insert = \"INSERT INTO fornecedor (cod_forn, nome_forn, cidade_forn, uf_forn, descricao_produto) VALUES (010, 'Robson', 'Lucas de Rio Verde','MT', 'Artigo de festa(decoracao)'), (011, 'Paulo', 'Sinop', 'MT', 'Artigo de festa (guluseimas)'), (012, 'Julie', 'Rondonopolis', 'MT', 'Artigo de festa(lembrancinhas)')\"\n",
    "cursor.execute(\"ROLLBACK\")\n",
    "cursor.execute(sql_insert)\n",
    "conn2.commit()"
   ]
  },
  {
   "cell_type": "code",
   "execution_count": 8,
   "metadata": {},
   "outputs": [
    {
     "name": "stdout",
     "output_type": "stream",
     "text": [
      "   cod_func nome_func      cpf_func funcao_func uf_func admissao_func  \\\n",
      "0       100     James  2.665853e+10    vendedor      MT    2022-01-03   \n",
      "1       110      Liza  8.179138e+10   vendedora      MT    2020-12-28   \n",
      "2       120      Emma  5.418865e+10   vendedora      MT    2022-05-07   \n",
      "\n",
      "  demissao_func filial_rh  \n",
      "0    2025-01-30    Matrix  \n",
      "1    2021-02-01    loja 2  \n",
      "2    2025-03-24    Matrix  \n"
     ]
    },
    {
     "name": "stderr",
     "output_type": "stream",
     "text": [
      "/tmp/ipykernel_9790/1530967822.py:11: UserWarning: pandas only supports SQLAlchemy connectable (engine/connection) or database string URI or sqlite3 DBAPI2 connection. Other DBAPI2 objects are not tested. Please consider using SQLAlchemy.\n",
      "  df = pd.read_sql(query,conn2)\n"
     ]
    }
   ],
   "source": [
    "#conectando SGBD PostgreSQL \n",
    "import psycopg2 as ps\n",
    "conn2 = ps.connect(dbname = \"pydw\",\n",
    "                   user = \"postgres\",\n",
    "                   password = \"125802\",\n",
    "                   host = \"10.0.2.2\",\n",
    "                   port = \"5432\")\n",
    "# Selecionando e executando comando no dataframework\n",
    "cursor = conn2.cursor()\n",
    "query = \"SELECT * FROM func_rh\" \n",
    "df = pd.read_sql(query,conn2)\n",
    "print(df.head(20))"
   ]
  },
  {
   "cell_type": "code",
   "execution_count": 103,
   "metadata": {},
   "outputs": [],
   "source": [
    "cursor = conn2.cursor()\n",
    "#Inserindo dados na tabela\n",
    "sql_insert = \"INSERT INTO func_rh (cod_func, nome_func, cpf_func, funcao_func, uf_func, admissao_func, demissao_func, filial_rh) VALUES (100, 'James', '26658529426','vendedor','MT', '2022-01-03', '2025-01-30', 'Matrix'), (110, 'Liza', '81791382592','vendedora', 'MT', '2020-12-28', '2021-02-01', 'loja 2'), (120, 'Emma', '54188652500','vendedora', 'MT', '2022-05-07', '2025-03-24', 'Matrix');\"\n",
    "cursor.execute(\"ROLLBACK\")\n",
    "cursor.execute(sql_insert)\n",
    "conn2.commit()"
   ]
  },
  {
   "cell_type": "code",
   "execution_count": 9,
   "metadata": {},
   "outputs": [
    {
     "name": "stdout",
     "output_type": "stream",
     "text": [
      "   cod_prod               nome_prod                               descricao  \\\n",
      "0       200                   Balao       Metalizado Cintilante Azul Escuro   \n",
      "1       210  Convite de Aniversario               Convite Festa Viúva Negra   \n",
      "2       220     Vela De Aniversário  Parabéns Letras Vela De Bolo De Festas   \n",
      "3       230     Painel Harry Potter           Decoração festa Grande em tnt   \n",
      "4       240             Lampada Led          Giratória Colorida Para Festas   \n",
      "\n",
      "   preco  qdt_estoque  \n",
      "0  12.90           30  \n",
      "1   4.90          120  \n",
      "2  34.90           50  \n",
      "3  35.00           25  \n",
      "4  16.89           28  \n"
     ]
    },
    {
     "name": "stderr",
     "output_type": "stream",
     "text": [
      "/tmp/ipykernel_9790/3602001511.py:11: UserWarning: pandas only supports SQLAlchemy connectable (engine/connection) or database string URI or sqlite3 DBAPI2 connection. Other DBAPI2 objects are not tested. Please consider using SQLAlchemy.\n",
      "  df = pd.read_sql(query,conn2)\n"
     ]
    }
   ],
   "source": [
    "#conectando SGBD PostgreSQL \n",
    "import psycopg2 as ps\n",
    "conn2 = ps.connect(dbname = \"pydw\",\n",
    "                   user = \"postgres\",\n",
    "                   password = \"125802\",\n",
    "                   host = \"10.0.2.2\",\n",
    "                   port = \"5432\")\n",
    "# Selecionando e executando comando no dataframework\n",
    "cursor = conn2.cursor()\n",
    "query = \"SELECT * FROM produto\" \n",
    "df = pd.read_sql(query,conn2)\n",
    "print(df.head(20))"
   ]
  },
  {
   "cell_type": "code",
   "execution_count": 118,
   "metadata": {},
   "outputs": [],
   "source": [
    "cursor = conn2.cursor()\n",
    "#Inserindo dados na tabela\n",
    "sql_insert = \"INSERT INTO produto (cod_prod, nome_prod, descricao, preco, qdt_estoque) VALUES (200, 'Balao', 'Metalizado Cintilante Azul Escuro', 12.90, 30), (210,'Convite de Aniversario', 'Convite Festa Viúva Negra',4.90, 120), (220,'Vela De Aniversário', 'Parabéns Letras Vela De Bolo De Festas', 34.90, 50), (230, 'Painel Harry Potter', 'Decoração festa Grande em tnt', 35.00, 25), (240, 'Lampada Led', 'Giratória Colorida Para Festas', 16.89, 28)\"\n",
    "cursor.execute(\"ROLLBACK\")\n",
    "cursor.execute(sql_insert)\n",
    "conn2.commit()"
   ]
  },
  {
   "cell_type": "code",
   "execution_count": 18,
   "metadata": {},
   "outputs": [
    {
     "name": "stdout",
     "output_type": "stream",
     "text": [
      "   id data_completa   ano  mes  dia        semana\n",
      "0   1    2022-06-30  2022    6   30  quinta-feira\n",
      "1   2    2021-02-07  2021    2    7       domingo\n"
     ]
    },
    {
     "name": "stderr",
     "output_type": "stream",
     "text": [
      "/tmp/ipykernel_9790/1269712662.py:11: UserWarning: pandas only supports SQLAlchemy connectable (engine/connection) or database string URI or sqlite3 DBAPI2 connection. Other DBAPI2 objects are not tested. Please consider using SQLAlchemy.\n",
      "  df = pd.read_sql(query,conn2)\n"
     ]
    }
   ],
   "source": [
    "#conectando SGBD PostgreSQL \n",
    "import psycopg2 as ps\n",
    "conn2 = ps.connect(dbname = \"pydw\",\n",
    "                   user = \"postgres\",\n",
    "                   password = \"125802\",\n",
    "                   host = \"10.0.2.2\",\n",
    "                   port = \"5432\")\n",
    "# Selecionando e executando comando no dataframework\n",
    "cursor = conn2.cursor()\n",
    "query = \"SELECT * FROM dim_tempo\" \n",
    "df = pd.read_sql(query,conn2)\n",
    "print(df.head(20))"
   ]
  },
  {
   "cell_type": "code",
   "execution_count": 17,
   "metadata": {},
   "outputs": [],
   "source": [
    "cursor = conn2.cursor()\n",
    "#Inserindo dados na tabela\n",
    "sql_insert = \"insert into dim_tempo (id, data_completa, ano, mes, dia, semana) VALUES (002, '2021-02-07', 2021, 02, 07, 'domingo') \"\n",
    "cursor.execute(\"ROLLBACK\")\n",
    "cursor.execute(sql_insert)\n",
    "conn2.commit()"
   ]
  },
  {
   "cell_type": "code",
   "execution_count": 19,
   "metadata": {},
   "outputs": [
    {
     "name": "stdout",
     "output_type": "stream",
     "text": [
      "Empty DataFrame\n",
      "Columns: [cod_vendas, cod_prod, cod_func_rh, cod_fin, cod_forn, qtd]\n",
      "Index: []\n"
     ]
    },
    {
     "name": "stderr",
     "output_type": "stream",
     "text": [
      "/tmp/ipykernel_9790/2795053663.py:11: UserWarning: pandas only supports SQLAlchemy connectable (engine/connection) or database string URI or sqlite3 DBAPI2 connection. Other DBAPI2 objects are not tested. Please consider using SQLAlchemy.\n",
      "  df = pd.read_sql(query,conn2)\n"
     ]
    }
   ],
   "source": [
    "#conectando SGBD PostgreSQL \n",
    "import psycopg2 as ps\n",
    "conn2 = ps.connect(dbname = \"pydw\",\n",
    "                   user = \"postgres\",\n",
    "                   password = \"125802\",\n",
    "                   host = \"10.0.2.2\",\n",
    "                   port = \"5432\")\n",
    "# Selecionando e executando comando no dataframework\n",
    "cursor = conn2.cursor()\n",
    "query = \"SELECT * FROM vendas\" \n",
    "df = pd.read_sql(query,conn2)\n",
    "print(df.head(20))"
   ]
  }
 ],
 "metadata": {
  "kernelspec": {
   "display_name": "Python 3.10.6 ('.venv': venv)",
   "language": "python",
   "name": "python3"
  },
  "language_info": {
   "codemirror_mode": {
    "name": "ipython",
    "version": 3
   },
   "file_extension": ".py",
   "mimetype": "text/x-python",
   "name": "python",
   "nbconvert_exporter": "python",
   "pygments_lexer": "ipython3",
   "version": "3.10.6 (main, Nov  2 2022, 18:53:38) [GCC 11.3.0]"
  },
  "orig_nbformat": 4,
  "vscode": {
   "interpreter": {
    "hash": "7860ca52a30de5854ee8c62d6b5932f6c554836752afa01c054090ae38c10115"
   }
  }
 },
 "nbformat": 4,
 "nbformat_minor": 2
}
